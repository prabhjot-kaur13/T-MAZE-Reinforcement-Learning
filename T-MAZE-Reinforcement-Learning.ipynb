{
 "cells": [
  {
   "cell_type": "markdown",
   "metadata": {
    "id": "XdUs4X5UTG5J"
   },
   "source": [
    "# Part1: Ten states representation"
   ]
  },
  {
   "cell_type": "code",
   "execution_count": 1,
   "metadata": {
    "id": "GBj4RcUixVOI"
   },
   "outputs": [],
   "source": [
    "import numpy as np\n",
    "import matplotlib.pyplot as plt\n",
    "from keras import models, layers, optimizers\n",
    "\n",
    "def tau(s,a):\n",
    "    if (s[0] and s[9]) == 0 : s=np.roll(s,a)\n",
    "    return s\n",
    "\n",
    "def rho(s):\n",
    "    return ((s[0]==1)+2*(s[9]==1))    \n",
    "\n",
    "def terminal_state(s):\n",
    "    return (s[0]==1 or s[9]==1)    \n",
    "\n",
    "gamma=0.8\n",
    "invT = 1"
   ]
  },
  {
   "cell_type": "code",
   "execution_count": 2,
   "metadata": {
    "id": "-p7fNZJAxr6P"
   },
   "outputs": [],
   "source": [
    "# the network\n",
    "inputs = layers.Input(shape=(10,))\n",
    "h = layers.Dense(20, activation='relu')(inputs)\n",
    "outputs = layers.Dense(2, activation='linear')(h)\n",
    "\n",
    "model = models.Model(inputs=inputs, outputs=outputs)\n",
    "RMSprop = optimizers.RMSprop(lr=0.01)\n",
    "model.compile(loss='mse', optimizer=RMSprop)"
   ]
  },
  {
   "cell_type": "code",
   "execution_count": 3,
   "metadata": {
    "id": "hLEgFm7p2fgf"
   },
   "outputs": [],
   "source": [
    "for trial in range(400):\n",
    "    s = np.array([0,0,0,0,0,0,0,1,0,0])\n",
    "    for t in range(0,10):\n",
    "        if terminal_state(s): break\n",
    "        if trial > 30 and invT > 0.1: invT -= 0.001\n",
    "        prediction=model.predict(s.reshape(1,10), steps=1, verbose=0)\n",
    "        aidx=np.argmax(prediction)\n",
    "        if np.random.rand() < invT : aidx=1-aidx\n",
    "        a=2*aidx-1\n",
    "        next_s = tau(s,a)\n",
    "        if terminal_state(next_s): \n",
    "            y = rho(next_s)\n",
    "        else:\n",
    "            y = gamma*np.max(model.predict(next_s.reshape(1,10), steps=1, verbose=0))\n",
    "        prediction[0,aidx]=y\n",
    "        model.fit(s.reshape(1,10), prediction, epochs=1, verbose=0)\n",
    "        s = np.copy(next_s)\n"
   ]
  },
  {
   "cell_type": "markdown",
   "metadata": {
    "id": "u5ZZ126NYLHg"
   },
   "source": [
    "Q-Values and Policy generated"
   ]
  },
  {
   "cell_type": "code",
   "execution_count": 4,
   "metadata": {
    "colab": {
     "base_uri": "https://localhost:8080/"
    },
    "id": "Hs0vIU9T2iHq",
    "outputId": "74bfddd6-c0a8-4d44-9506-e7d71239bf35"
   },
   "outputs": [
    {
     "name": "stdout",
     "output_type": "stream",
     "text": [
      "[[[0.96803534 0.8101573  0.8315115  0.79259086 0.5991806  0.61579823\n",
      "   0.76312673 1.0989364  1.2157247  1.2229034 ]]\n",
      "\n",
      " [[0.98403335 1.4067031  0.6679058  0.7322889  0.77526397 0.99894094\n",
      "   1.2187111  1.6052873  2.0314152  1.2814515 ]]]\n",
      "policy: [ 1.  1. -1. -1.  1.  1.  1.  1.  1.  1.]\n"
     ]
    }
   ],
   "source": [
    "policy = np.zeros(10)\n",
    "Q=[]\n",
    "s = np.array([1,0,0,0,0,0,0,0,0,0])\n",
    "\n",
    "for i in range(0,10):\n",
    "    Qs=model.predict(s.reshape(1,10), steps=1)\n",
    "    Q.append(Qs)\n",
    "    aidx=np.argmax(Qs)\n",
    "    policy[i]=2*aidx-1\n",
    "    s = np.roll(s,1)\n",
    "print(np.transpose(Q))\n",
    "print('policy:',np.transpose(policy))"
   ]
  },
  {
   "cell_type": "markdown",
   "metadata": {
    "id": "GxpRD7yFTb0Q"
   },
   "source": [
    "\n",
    "\n",
    "# Part2: Integer Input\n"
   ]
  },
  {
   "cell_type": "code",
   "execution_count": 9,
   "metadata": {
    "id": "ij3aXAPP399Z"
   },
   "outputs": [],
   "source": [
    "\n",
    "def tau(s,a):\n",
    "    if (s != 0 and s != 9) : s = s+a\n",
    "    return s\n",
    "\n",
    "def rho(s):\n",
    "    return ((s == 0)+2*(s == 9))    \n",
    "\n",
    "def terminal_state(s):\n",
    "    return (s==0 or s==9)    \n",
    "\n",
    "gamma=0.8\n",
    "invT = 1"
   ]
  },
  {
   "cell_type": "code",
   "execution_count": 10,
   "metadata": {
    "id": "JYYXR-FCtqPw"
   },
   "outputs": [],
   "source": [
    "# the network\n",
    "inputs = layers.Input(shape=(1,))\n",
    "h = layers.Dense(10, activation='relu')(inputs)\n",
    "outputs = layers.Dense(2, activation='linear')(h)\n",
    "\n",
    "model = models.Model(inputs=inputs, outputs=outputs)\n",
    "RMSprop = optimizers.RMSprop(lr=0.01)\n",
    "model.compile(loss='mse', optimizer=RMSprop)"
   ]
  },
  {
   "cell_type": "code",
   "execution_count": 11,
   "metadata": {
    "id": "Y_JOujUVua0r"
   },
   "outputs": [],
   "source": [
    "for trial in range(400):\n",
    "    input = 6\n",
    "    s= np.array([input])\n",
    "    for t in range(0,10):\n",
    "        if terminal_state(s): break\n",
    "        if trial > 30 and invT > 0.1: invT -= 0.001\n",
    "        prediction=model.predict(s.reshape(1,1), steps=1, verbose=0)\n",
    "        aidx=np.argmax(prediction)\n",
    "        if np.random.rand() < invT : aidx=1-aidx\n",
    "        a=2*aidx-1\n",
    "        next_s = tau(s,a)\n",
    "        if terminal_state(next_s): \n",
    "            y = rho(next_s)\n",
    "        else:\n",
    "            y = gamma*np.max(model.predict(next_s.reshape(1,1), steps=1, verbose=0))\n",
    "        prediction[0,aidx]=y\n",
    "        model.fit(s.reshape(1,1), prediction, epochs=1, verbose=0)\n",
    "        s = np.copy(next_s)\n"
   ]
  },
  {
   "cell_type": "markdown",
   "metadata": {
    "id": "_2omDAEgYUXM"
   },
   "source": [
    "Q-Values and Policy generated"
   ]
  },
  {
   "cell_type": "code",
   "execution_count": 12,
   "metadata": {
    "colab": {
     "base_uri": "https://localhost:8080/"
    },
    "id": "WJ7krXIEuvVa",
    "outputId": "71dcf0e8-a496-431f-cd4b-b1a1b9c44c05"
   },
   "outputs": [
    {
     "name": "stdout",
     "output_type": "stream",
     "text": [
      "[[[ 0.00982988  0.11931337  0.35386476  0.48853293  0.62320113\n",
      "    0.75786924  0.8925376   1.0272058   1.1618739   1.296542  ]]\n",
      "\n",
      " [[-0.36439455 -0.27556625 -0.01060781  0.35007346  0.7107549\n",
      "    1.071436    1.4321175   1.7927989   2.15348     2.514161  ]]]\n",
      "policy: [-1. -1. -1. -1.  1.  1.  1.  1.  1.  1.]\n"
     ]
    }
   ],
   "source": [
    "policy = np.zeros(10)\n",
    "Q=[]\n",
    "s = np.array([0])\n",
    "for i in range(0,10):\n",
    "    Qs=model.predict(s.reshape(1,1), steps=1)\n",
    "    Q.append(Qs)\n",
    "    aidx=np.argmax(Qs)\n",
    "    policy[i]=2*aidx-1\n",
    "    s = s+1\n",
    "print(np.transpose(Q))\n",
    "print('policy:',np.transpose(policy))"
   ]
  },
  {
   "cell_type": "markdown",
   "metadata": {
    "id": "-WKqHX--VkMu"
   },
   "source": [
    "# Part3: MNIST model input\n"
   ]
  },
  {
   "cell_type": "code",
   "execution_count": 25,
   "metadata": {
    "colab": {
     "base_uri": "https://localhost:8080/",
     "height": 309
    },
    "id": "mKrKt_RKxV4H",
    "outputId": "126063e3-1f11-4013-c259-497fd8a00ba3"
   },
   "outputs": [
    {
     "name": "stdout",
     "output_type": "stream",
     "text": [
      "(60000, 28, 28)\n"
     ]
    },
    {
     "data": {
      "text/plain": [
       "<matplotlib.image.AxesImage at 0x7f7580a16c18>"
      ]
     },
     "execution_count": 25,
     "metadata": {
      "tags": []
     },
     "output_type": "execute_result"
    },
    {
     "data": {
      "image/png": "[encoded data removed]",
      "text/plain": [
       "<Figure size 288x288 with 1 Axes>"
      ]
     },
     "metadata": {
      "needs_background": "light",
      "tags": []
     },
     "output_type": "display_data"
    }
   ],
   "source": [
    "import numpy as np\n",
    "import matplotlib.pyplot as plt\n",
    "from keras import models, layers, optimizers, datasets, utils, losses\n",
    "\n",
    "(x_train, y_train), (x_test, y_test) = datasets.mnist.load_data()\n",
    "print(np.shape(x_train))\n",
    "plt.matshow(255-x_train[5,:,:], cmap='gray')"
   ]
  },
  {
   "cell_type": "code",
   "execution_count": 26,
   "metadata": {
    "colab": {
     "base_uri": "https://localhost:8080/"
    },
    "id": "xVX8TnJ4xuU-",
    "outputId": "4b0e5815-367b-4295-a98e-f4dad6edade0"
   },
   "outputs": [
    {
     "name": "stdout",
     "output_type": "stream",
     "text": [
      "Epoch 1/10\n",
      "79/79 [==============================] - 22s 280ms/step - loss: 2.3055 - accuracy: 0.1110 - val_loss: 2.2960 - val_accuracy: 0.1391\n",
      "Epoch 2/10\n",
      "79/79 [==============================] - 22s 277ms/step - loss: 2.2962 - accuracy: 0.1227 - val_loss: 2.2846 - val_accuracy: 0.1634\n",
      "Epoch 3/10\n",
      "79/79 [==============================] - 22s 280ms/step - loss: 2.2844 - accuracy: 0.1398 - val_loss: 2.2733 - val_accuracy: 0.2023\n",
      "Epoch 4/10\n",
      "79/79 [==============================] - 22s 279ms/step - loss: 2.2740 - accuracy: 0.1545 - val_loss: 2.2620 - val_accuracy: 0.2522\n",
      "Epoch 5/10\n",
      "79/79 [==============================] - 22s 277ms/step - loss: 2.2622 - accuracy: 0.1749 - val_loss: 2.2504 - val_accuracy: 0.3023\n",
      "Epoch 6/10\n",
      "79/79 [==============================] - 22s 280ms/step - loss: 2.2508 - accuracy: 0.1866 - val_loss: 2.2385 - val_accuracy: 0.3369\n",
      "Epoch 7/10\n",
      "79/79 [==============================] - 22s 277ms/step - loss: 2.2408 - accuracy: 0.2053 - val_loss: 2.2262 - val_accuracy: 0.3639\n",
      "Epoch 8/10\n",
      "79/79 [==============================] - 22s 281ms/step - loss: 2.2308 - accuracy: 0.2242 - val_loss: 2.2133 - val_accuracy: 0.3823\n",
      "Epoch 9/10\n",
      "79/79 [==============================] - 22s 279ms/step - loss: 2.2167 - accuracy: 0.2419 - val_loss: 2.1996 - val_accuracy: 0.3992\n",
      "Epoch 10/10\n",
      "79/79 [==============================] - 22s 279ms/step - loss: 2.2045 - accuracy: 0.2640 - val_loss: 2.1853 - val_accuracy: 0.4191\n"
     ]
    },
    {
     "data": {
      "text/plain": [
       "<tensorflow.python.keras.callbacks.History at 0x7f7583967390>"
      ]
     },
     "execution_count": 26,
     "metadata": {
      "tags": []
     },
     "output_type": "execute_result"
    }
   ],
   "source": [
    "x_train = x_train.reshape(60000, 28, 28, 1)/255\n",
    "x_train = x_train[:10024,:,:,:]\n",
    "x_test = x_test.reshape(10000, 28, 28, 1)/255\n",
    "y_train = utils.to_categorical(y_train[:10024], 10)\n",
    "y_test = utils.to_categorical(y_test, 10)\n",
    "\n",
    "inputs = layers.Input(shape=(28, 28, 1,))\n",
    "x=layers.Conv2D(32, kernel_size=(3, 3),activation='relu')(inputs)\n",
    "x=layers.Conv2D(64, (3, 3), activation='relu')(x)\n",
    "x=layers.MaxPooling2D(pool_size=(2, 2))(x)\n",
    "x=layers.Dropout(0.25)(x)\n",
    "x=layers.Flatten()(x)\n",
    "x=layers.Dense(128, activation='relu')(x)\n",
    "x=layers.Dropout(0.5)(x)\n",
    "outputs=layers.Dense(10, activation='softmax')(x)\n",
    "\n",
    "model = models.Model(inputs=inputs, outputs=outputs)\n",
    "\n",
    "model.compile(loss=losses.categorical_crossentropy,\n",
    "              optimizer=optimizers.Adadelta(),\n",
    "              metrics=['accuracy'])\n",
    "\n",
    "model.fit(x_train, y_train,\n",
    "          batch_size=128,\n",
    "          epochs=10,\n",
    "          verbose=1,\n",
    "          validation_data=(x_test, y_test))\n"
   ]
  },
  {
   "cell_type": "code",
   "execution_count": 27,
   "metadata": {
    "id": "y0ptXjBbxwT1"
   },
   "outputs": [],
   "source": [
    "y_pred = model.predict(x_test)"
   ]
  },
  {
   "cell_type": "code",
   "execution_count": 28,
   "metadata": {
    "colab": {
     "base_uri": "https://localhost:8080/"
    },
    "id": "cdjaDFBTx_x7",
    "outputId": "821b8694-fa31-46e9-d06a-436d1dde9ed4"
   },
   "outputs": [
    {
     "data": {
      "text/plain": [
       "array([0.10251051, 0.08863058, 0.10310771, 0.10161319, 0.10712947,\n",
       "       0.09470204, 0.10160833, 0.09527826, 0.11005335, 0.09536657],\n",
       "      dtype=float32)"
      ]
     },
     "execution_count": 28,
     "metadata": {
      "tags": []
     },
     "output_type": "execute_result"
    }
   ],
   "source": [
    "y_pred[1]"
   ]
  },
  {
   "cell_type": "code",
   "execution_count": 29,
   "metadata": {
    "id": "UsYGgCvVYZwX"
   },
   "outputs": [],
   "source": [
    "def tau(s,a):\n",
    "    if (s[0] and s[9]) == 0 : s=np.roll(s,a)\n",
    "    return s\n",
    "\n",
    "def rho(s):\n",
    "    return ((s[0]==1)+2*(s[9]==1))    \n",
    "\n",
    "def terminal_state(s):\n",
    "    return (s[0]==1 or s[9]==1)    \n",
    "\n",
    "gamma=0.8\n",
    "invT = 1"
   ]
  },
  {
   "cell_type": "code",
   "execution_count": 30,
   "metadata": {
    "id": "1cmqQK2hYfw8"
   },
   "outputs": [],
   "source": [
    "# the network\n",
    "inputs = layers.Input(shape=(10,))\n",
    "h = layers.Dense(20, activation='relu')(inputs)\n",
    "outputs = layers.Dense(2, activation='linear')(h)\n",
    "\n",
    "model = models.Model(inputs=inputs, outputs=outputs)\n",
    "RMSprop = optimizers.RMSprop(lr=0.01)\n",
    "model.compile(loss='mse', optimizer=RMSprop)"
   ]
  },
  {
   "cell_type": "code",
   "execution_count": 31,
   "metadata": {
    "id": "PIQCjEJaYjie"
   },
   "outputs": [],
   "source": [
    "for trial in range(400):\n",
    "    s = y_pred[1]\n",
    "    for t in range(0,10):\n",
    "        if terminal_state(s): break\n",
    "        if trial > 30 and invT > 0.1: invT -= 0.001\n",
    "        prediction=model.predict(s.reshape(1,10), steps=1, verbose=0)\n",
    "        aidx=np.argmax(prediction)\n",
    "        if np.random.rand() < invT : aidx=1-aidx\n",
    "        a=2*aidx-1\n",
    "        next_s = tau(s,a)\n",
    "        if terminal_state(next_s): \n",
    "            y = rho(next_s)\n",
    "        else:\n",
    "            y = gamma*np.max(model.predict(next_s.reshape(1,10), steps=1, verbose=0))\n",
    "        prediction[0,aidx]=y\n",
    "        model.fit(s.reshape(1,10), prediction, epochs=1, verbose=0)\n",
    "        s = np.copy(next_s)"
   ]
  },
  {
   "cell_type": "markdown",
   "metadata": {
    "id": "X6LODq1cY5mw"
   },
   "source": [
    "Q-Values and Policy generated\n"
   ]
  },
  {
   "cell_type": "code",
   "execution_count": 24,
   "metadata": {
    "colab": {
     "base_uri": "https://localhost:8080/"
    },
    "id": "0ZTJ-lj4YpWk",
    "outputId": "50beaa80-4609-45b6-82ec-475423ba4126"
   },
   "outputs": [
    {
     "name": "stdout",
     "output_type": "stream",
     "text": [
      "[[[ 0.23865758  0.2509752   0.11164142  0.10483261 -0.15577662\n",
      "    0.04641047 -0.03825612 -0.04737083  0.015613    0.35242653]]\n",
      "\n",
      " [[-0.13309106  0.09589105 -0.0231336  -0.06245815 -0.211565\n",
      "   -0.23046705 -0.019216    0.05351142 -0.03796541 -0.10223649]]]\n",
      "policy: [-1. -1. -1. -1. -1. -1.  1.  1. -1. -1.]\n"
     ]
    }
   ],
   "source": [
    "policy = np.zeros(10)\n",
    "Q=[]\n",
    "s = np.array([1,0,0,0,0,0,0,0,0,0])\n",
    "\n",
    "for i in range(0,10):\n",
    "    Qs=model.predict(s.reshape(1,10), steps=1)\n",
    "    Q.append(Qs)\n",
    "    aidx=np.argmax(Qs)\n",
    "    policy[i]=2*aidx-1\n",
    "    s = np.roll(s,1)\n",
    "print(np.transpose(Q))\n",
    "print('policy:',np.transpose(policy))"
   ]
  }
 ],
 "metadata": {
  "colab": {
   "collapsed_sections": [],
   "name": "Copy of assignment8.ipynb",
   "provenance": []
  },
  "kernelspec": {
   "display_name": "Python 3",
   "language": "python",
   "name": "python3"
  },
  "language_info": {
   "codemirror_mode": {
    "name": "ipython",
    "version": 3
   },
   "file_extension": ".py",
   "mimetype": "text/x-python",
   "name": "python",
   "nbconvert_exporter": "python",
   "pygments_lexer": "ipython3",
   "version": "3.8.5"
  }
 },
 "nbformat": 4,
 "nbformat_minor": 1
}
